{
 "cells": [
  {
   "cell_type": "code",
   "execution_count": 69,
   "metadata": {},
   "outputs": [
    {
     "name": "stdout",
     "output_type": "stream",
     "text": [
      "The autoreload extension is already loaded. To reload it, use:\n",
      "  %reload_ext autoreload\n",
      "Pretty printing has been turned OFF\n"
     ]
    }
   ],
   "source": [
    "%load_ext autoreload\n",
    "%autoreload 2\n",
    "%pprint"
   ]
  },
  {
   "cell_type": "markdown",
   "metadata": {},
   "source": [
    "# Exploring available regulatory data in the Ensembl database"
   ]
  },
  {
   "cell_type": "code",
   "execution_count": 134,
   "metadata": {},
   "outputs": [],
   "source": [
    "from ensembl_scraper.regulatory import Metadata"
   ]
  },
  {
   "cell_type": "markdown",
   "metadata": {},
   "source": [
    "First we need to create an object for specific Ensembl release. We probably already know which release do we want but we can use the following command to get all the available Ensembl releases."
   ]
  },
  {
   "cell_type": "code",
   "execution_count": 71,
   "metadata": {},
   "outputs": [
    {
     "data": {
      "text/plain": [
       "['100', '101', '102', '103', '104', '105', '106', '19', '21', '22', '23', '24', '25', '26', '27', '28', '29', '30', '31', '32', '33', '34', '35', '36', '37', '38', '39', '40', '41', '42', '43', '44', '45', '46', '47', '48', '49', '50', '51', '52', '53', '54', '55', '56', '57', '58', '59', '60', '61', '62', '63', '64', '65', '66', '67', '68', '69', '70', '71', '72', '73', '74', '75', '76', '77', '78', '79', '80', '81', '82', '83', '84', '85', '86', '87', '88', '89', '90', '91', '92', '93', '94', '95', '96', '97', '98', '99']"
      ]
     },
     "execution_count": 71,
     "metadata": {},
     "output_type": "execute_result"
    }
   ],
   "source": [
    "Metadata.get_releases()"
   ]
  },
  {
   "cell_type": "markdown",
   "metadata": {},
   "source": [
    "But if we are not interested in some specific release we can use the following command to get the latest release."
   ]
  },
  {
   "cell_type": "code",
   "execution_count": 135,
   "metadata": {},
   "outputs": [],
   "source": [
    "m = Metadata('latest')"
   ]
  },
  {
   "cell_type": "markdown",
   "metadata": {},
   "source": [
    "And we can verify that the release we are using really is the latest one."
   ]
  },
  {
   "cell_type": "code",
   "execution_count": 130,
   "metadata": {},
   "outputs": [
    {
     "data": {
      "text/plain": [
       "106"
      ]
     },
     "execution_count": 130,
     "metadata": {},
     "output_type": "execute_result"
    }
   ],
   "source": [
    "m.get_release()"
   ]
  },
  {
   "cell_type": "markdown",
   "metadata": {},
   "source": [
    "And now we can start exploring the data within the selected release. First thing we can do is to get the list of available species."
   ]
  },
  {
   "cell_type": "code",
   "execution_count": 124,
   "metadata": {},
   "outputs": [
    {
     "data": {
      "text/plain": [
       "{'mus_musculus', 'homo_sapiens'}"
      ]
     },
     "execution_count": 124,
     "metadata": {},
     "output_type": "execute_result"
    }
   ],
   "source": [
    "m.get_organisms()"
   ]
  },
  {
   "cell_type": "markdown",
   "metadata": {},
   "source": [
    "Then we can get the list of available regulatory feature classes for each species."
   ]
  },
  {
   "cell_type": "code",
   "execution_count": 125,
   "metadata": {},
   "outputs": [
    {
     "name": "stdout",
     "output_type": "stream",
     "text": [
      "mus_musculus {'regulatory_feature', 'external_feature', 'peak', 'mirna_target_feature'}\n",
      "homo_sapiens {'regulatory_feature', 'external_feature', 'peak', 'mirna_target_feature'}\n"
     ]
    }
   ],
   "source": [
    "for organism in m.get_organisms():\n",
    "    print(organism, m.get_feature_classes(organism))"
   ]
  },
  {
   "cell_type": "markdown",
   "metadata": {},
   "source": [
    "And sometimes it might come in handy to translate organism names into human readable names."
   ]
  },
  {
   "cell_type": "code",
   "execution_count": 126,
   "metadata": {},
   "outputs": [
    {
     "name": "stdout",
     "output_type": "stream",
     "text": [
      "mus_musculus - Mouse\n",
      "homo_sapiens - Human\n"
     ]
    }
   ],
   "source": [
    "for organism in m.get_organisms():\n",
    "    print(organism, \"-\", m.get_full_name(organism))"
   ]
  },
  {
   "cell_type": "code",
   "execution_count": 139,
   "metadata": {},
   "outputs": [
    {
     "name": "stdout",
     "output_type": "stream",
     "text": [
      "ftp://ftp.ensembl.org/pub/release-106/mysql/regulation_mart_106/mmusculus_peak__peak__main.txt.gz\n",
      "█\r"
     ]
    }
   ],
   "source": [
    "m.get_features('mus_musculus', 'peak')"
   ]
  },
  {
   "cell_type": "code",
   "execution_count": 115,
   "metadata": {},
   "outputs": [
    {
     "data": {
      "text/html": [
       "<div>\n",
       "<style scoped>\n",
       "    .dataframe tbody tr th:only-of-type {\n",
       "        vertical-align: middle;\n",
       "    }\n",
       "\n",
       "    .dataframe tbody tr th {\n",
       "        vertical-align: top;\n",
       "    }\n",
       "\n",
       "    .dataframe thead th {\n",
       "        text-align: right;\n",
       "    }\n",
       "</style>\n",
       "<table border=\"1\" class=\"dataframe\">\n",
       "  <thead>\n",
       "    <tr style=\"text-align: right;\">\n",
       "      <th></th>\n",
       "      <th>seq_region_strand</th>\n",
       "      <th>seq_region_start</th>\n",
       "      <th>seq_region_end</th>\n",
       "      <th>feature_type_description</th>\n",
       "      <th>seq_region_name</th>\n",
       "    </tr>\n",
       "  </thead>\n",
       "  <tbody>\n",
       "    <tr>\n",
       "      <th>0</th>\n",
       "      <td>+</td>\n",
       "      <td>113072870</td>\n",
       "      <td>113077010</td>\n",
       "      <td>Enhancer identified by positive VISTA assay</td>\n",
       "      <td>chr11</td>\n",
       "    </tr>\n",
       "    <tr>\n",
       "      <th>1</th>\n",
       "      <td>+</td>\n",
       "      <td>55356208</td>\n",
       "      <td>55358345</td>\n",
       "      <td>Enhancer identified by positive VISTA assay</td>\n",
       "      <td>chr9</td>\n",
       "    </tr>\n",
       "    <tr>\n",
       "      <th>2</th>\n",
       "      <td>+</td>\n",
       "      <td>18950903</td>\n",
       "      <td>18952943</td>\n",
       "      <td>Enhancer identified by positive VISTA assay</td>\n",
       "      <td>chr7</td>\n",
       "    </tr>\n",
       "    <tr>\n",
       "      <th>3</th>\n",
       "      <td>+</td>\n",
       "      <td>13672328</td>\n",
       "      <td>13676370</td>\n",
       "      <td>Enhancer identified by positive VISTA assay</td>\n",
       "      <td>chr8</td>\n",
       "    </tr>\n",
       "    <tr>\n",
       "      <th>4</th>\n",
       "      <td>+</td>\n",
       "      <td>143444327</td>\n",
       "      <td>143446382</td>\n",
       "      <td>Enhancer identified by positive VISTA assay</td>\n",
       "      <td>chr6</td>\n",
       "    </tr>\n",
       "    <tr>\n",
       "      <th>...</th>\n",
       "      <td>...</td>\n",
       "      <td>...</td>\n",
       "      <td>...</td>\n",
       "      <td>...</td>\n",
       "      <td>...</td>\n",
       "    </tr>\n",
       "    <tr>\n",
       "      <th>628</th>\n",
       "      <td>+</td>\n",
       "      <td>96300066</td>\n",
       "      <td>96302831</td>\n",
       "      <td>Enhancer identified by positive VISTA assay</td>\n",
       "      <td>chr7</td>\n",
       "    </tr>\n",
       "    <tr>\n",
       "      <th>629</th>\n",
       "      <td>+</td>\n",
       "      <td>135639643</td>\n",
       "      <td>135641905</td>\n",
       "      <td>Enhancer identified by positive VISTA assay</td>\n",
       "      <td>chr7</td>\n",
       "    </tr>\n",
       "    <tr>\n",
       "      <th>630</th>\n",
       "      <td>+</td>\n",
       "      <td>151734158</td>\n",
       "      <td>151735565</td>\n",
       "      <td>Enhancer identified by positive VISTA assay</td>\n",
       "      <td>chr3</td>\n",
       "    </tr>\n",
       "    <tr>\n",
       "      <th>631</th>\n",
       "      <td>+</td>\n",
       "      <td>83062627</td>\n",
       "      <td>83064298</td>\n",
       "      <td>Enhancer identified by positive VISTA assay</td>\n",
       "      <td>chr12</td>\n",
       "    </tr>\n",
       "    <tr>\n",
       "      <th>632</th>\n",
       "      <td>+</td>\n",
       "      <td>15881552</td>\n",
       "      <td>15886433</td>\n",
       "      <td>Enhancer identified by positive VISTA assay</td>\n",
       "      <td>chr13</td>\n",
       "    </tr>\n",
       "  </tbody>\n",
       "</table>\n",
       "<p>633 rows × 5 columns</p>\n",
       "</div>"
      ],
      "text/plain": [
       "    seq_region_strand  seq_region_start  seq_region_end  \\\n",
       "0                   +         113072870       113077010   \n",
       "1                   +          55356208        55358345   \n",
       "2                   +          18950903        18952943   \n",
       "3                   +          13672328        13676370   \n",
       "4                   +         143444327       143446382   \n",
       "..                ...               ...             ...   \n",
       "628                 +          96300066        96302831   \n",
       "629                 +         135639643       135641905   \n",
       "630                 +         151734158       151735565   \n",
       "631                 +          83062627        83064298   \n",
       "632                 +          15881552        15886433   \n",
       "\n",
       "                        feature_type_description seq_region_name  \n",
       "0    Enhancer identified by positive VISTA assay           chr11  \n",
       "1    Enhancer identified by positive VISTA assay            chr9  \n",
       "2    Enhancer identified by positive VISTA assay            chr7  \n",
       "3    Enhancer identified by positive VISTA assay            chr8  \n",
       "4    Enhancer identified by positive VISTA assay            chr6  \n",
       "..                                           ...             ...  \n",
       "628  Enhancer identified by positive VISTA assay            chr7  \n",
       "629  Enhancer identified by positive VISTA assay            chr7  \n",
       "630  Enhancer identified by positive VISTA assay            chr3  \n",
       "631  Enhancer identified by positive VISTA assay           chr12  \n",
       "632  Enhancer identified by positive VISTA assay           chr13  \n",
       "\n",
       "[633 rows x 5 columns]"
      ]
     },
     "execution_count": 115,
     "metadata": {},
     "output_type": "execute_result"
    }
   ],
   "source": [
    "m.feature_data['mus_musculus']['external_feature']"
   ]
  },
  {
   "cell_type": "code",
   "execution_count": 132,
   "metadata": {},
   "outputs": [
    {
     "data": {
      "text/plain": [
       "['feature_type_class', 'so_accession', 'seq_region_strand', 'seq_region_start', 'display_label', 'seq_region_end', 'fs_display_label', 'so_term', 'external_feature_id', 'feature_type_description', 'seq_region_name']"
      ]
     },
     "execution_count": 132,
     "metadata": {},
     "output_type": "execute_result"
    }
   ],
   "source": [
    "columns = m._get_column_names('mus_musculus', 'external_feature')\n",
    "columns"
   ]
  },
  {
   "cell_type": "code",
   "execution_count": 133,
   "metadata": {},
   "outputs": [
    {
     "data": {
      "text/html": [
       "<div>\n",
       "<style scoped>\n",
       "    .dataframe tbody tr th:only-of-type {\n",
       "        vertical-align: middle;\n",
       "    }\n",
       "\n",
       "    .dataframe tbody tr th {\n",
       "        vertical-align: top;\n",
       "    }\n",
       "\n",
       "    .dataframe thead th {\n",
       "        text-align: right;\n",
       "    }\n",
       "</style>\n",
       "<table border=\"1\" class=\"dataframe\">\n",
       "  <thead>\n",
       "    <tr style=\"text-align: right;\">\n",
       "      <th></th>\n",
       "      <th>feature_type_class</th>\n",
       "      <th>so_accession</th>\n",
       "      <th>seq_region_strand</th>\n",
       "      <th>seq_region_start</th>\n",
       "      <th>display_label</th>\n",
       "      <th>seq_region_end</th>\n",
       "      <th>fs_display_label</th>\n",
       "      <th>so_term</th>\n",
       "      <th>external_feature_id</th>\n",
       "      <th>feature_type_description</th>\n",
       "      <th>seq_region_name</th>\n",
       "    </tr>\n",
       "  </thead>\n",
       "  <tbody>\n",
       "    <tr>\n",
       "      <th>0</th>\n",
       "      <td>Enhancer</td>\n",
       "      <td>SO:0000165</td>\n",
       "      <td>1</td>\n",
       "      <td>113072871</td>\n",
       "      <td>1766</td>\n",
       "      <td>113077010</td>\n",
       "      <td>VISTA Enhancers</td>\n",
       "      <td>enhancer</td>\n",
       "      <td>251727</td>\n",
       "      <td>Enhancer identified by positive VISTA assay</td>\n",
       "      <td>11</td>\n",
       "    </tr>\n",
       "    <tr>\n",
       "      <th>1</th>\n",
       "      <td>Enhancer</td>\n",
       "      <td>SO:0000165</td>\n",
       "      <td>1</td>\n",
       "      <td>55356209</td>\n",
       "      <td>1754</td>\n",
       "      <td>55358345</td>\n",
       "      <td>VISTA Enhancers</td>\n",
       "      <td>enhancer</td>\n",
       "      <td>251725</td>\n",
       "      <td>Enhancer identified by positive VISTA assay</td>\n",
       "      <td>9</td>\n",
       "    </tr>\n",
       "    <tr>\n",
       "      <th>2</th>\n",
       "      <td>Enhancer</td>\n",
       "      <td>SO:0000165</td>\n",
       "      <td>1</td>\n",
       "      <td>18950904</td>\n",
       "      <td>1753</td>\n",
       "      <td>18952943</td>\n",
       "      <td>VISTA Enhancers</td>\n",
       "      <td>enhancer</td>\n",
       "      <td>251724</td>\n",
       "      <td>Enhancer identified by positive VISTA assay</td>\n",
       "      <td>7</td>\n",
       "    </tr>\n",
       "    <tr>\n",
       "      <th>3</th>\n",
       "      <td>Enhancer</td>\n",
       "      <td>SO:0000165</td>\n",
       "      <td>1</td>\n",
       "      <td>13672329</td>\n",
       "      <td>1751</td>\n",
       "      <td>13676370</td>\n",
       "      <td>VISTA Enhancers</td>\n",
       "      <td>enhancer</td>\n",
       "      <td>251722</td>\n",
       "      <td>Enhancer identified by positive VISTA assay</td>\n",
       "      <td>8</td>\n",
       "    </tr>\n",
       "    <tr>\n",
       "      <th>4</th>\n",
       "      <td>Enhancer</td>\n",
       "      <td>SO:0000165</td>\n",
       "      <td>1</td>\n",
       "      <td>143444328</td>\n",
       "      <td>1750</td>\n",
       "      <td>143446382</td>\n",
       "      <td>VISTA Enhancers</td>\n",
       "      <td>enhancer</td>\n",
       "      <td>251721</td>\n",
       "      <td>Enhancer identified by positive VISTA assay</td>\n",
       "      <td>6</td>\n",
       "    </tr>\n",
       "    <tr>\n",
       "      <th>...</th>\n",
       "      <td>...</td>\n",
       "      <td>...</td>\n",
       "      <td>...</td>\n",
       "      <td>...</td>\n",
       "      <td>...</td>\n",
       "      <td>...</td>\n",
       "      <td>...</td>\n",
       "      <td>...</td>\n",
       "      <td>...</td>\n",
       "      <td>...</td>\n",
       "      <td>...</td>\n",
       "    </tr>\n",
       "    <tr>\n",
       "      <th>628</th>\n",
       "      <td>Enhancer</td>\n",
       "      <td>SO:0000165</td>\n",
       "      <td>1</td>\n",
       "      <td>96300067</td>\n",
       "      <td>2003</td>\n",
       "      <td>96302831</td>\n",
       "      <td>VISTA Enhancers</td>\n",
       "      <td>enhancer</td>\n",
       "      <td>251820</td>\n",
       "      <td>Enhancer identified by positive VISTA assay</td>\n",
       "      <td>7</td>\n",
       "    </tr>\n",
       "    <tr>\n",
       "      <th>629</th>\n",
       "      <td>Enhancer</td>\n",
       "      <td>SO:0000165</td>\n",
       "      <td>1</td>\n",
       "      <td>135639644</td>\n",
       "      <td>2007</td>\n",
       "      <td>135641905</td>\n",
       "      <td>VISTA Enhancers</td>\n",
       "      <td>enhancer</td>\n",
       "      <td>251824</td>\n",
       "      <td>Enhancer identified by positive VISTA assay</td>\n",
       "      <td>7</td>\n",
       "    </tr>\n",
       "    <tr>\n",
       "      <th>630</th>\n",
       "      <td>Enhancer</td>\n",
       "      <td>SO:0000165</td>\n",
       "      <td>1</td>\n",
       "      <td>151734159</td>\n",
       "      <td>2010</td>\n",
       "      <td>151735565</td>\n",
       "      <td>VISTA Enhancers</td>\n",
       "      <td>enhancer</td>\n",
       "      <td>251827</td>\n",
       "      <td>Enhancer identified by positive VISTA assay</td>\n",
       "      <td>3</td>\n",
       "    </tr>\n",
       "    <tr>\n",
       "      <th>631</th>\n",
       "      <td>Enhancer</td>\n",
       "      <td>SO:0000165</td>\n",
       "      <td>1</td>\n",
       "      <td>83062628</td>\n",
       "      <td>2011</td>\n",
       "      <td>83064298</td>\n",
       "      <td>VISTA Enhancers</td>\n",
       "      <td>enhancer</td>\n",
       "      <td>251828</td>\n",
       "      <td>Enhancer identified by positive VISTA assay</td>\n",
       "      <td>12</td>\n",
       "    </tr>\n",
       "    <tr>\n",
       "      <th>632</th>\n",
       "      <td>Enhancer</td>\n",
       "      <td>SO:0000165</td>\n",
       "      <td>1</td>\n",
       "      <td>15881553</td>\n",
       "      <td>2028</td>\n",
       "      <td>15886433</td>\n",
       "      <td>VISTA Enhancers</td>\n",
       "      <td>enhancer</td>\n",
       "      <td>251835</td>\n",
       "      <td>Enhancer identified by positive VISTA assay</td>\n",
       "      <td>13</td>\n",
       "    </tr>\n",
       "  </tbody>\n",
       "</table>\n",
       "<p>633 rows × 11 columns</p>\n",
       "</div>"
      ],
      "text/plain": [
       "    feature_type_class so_accession  seq_region_strand  seq_region_start  \\\n",
       "0             Enhancer   SO:0000165                  1         113072871   \n",
       "1             Enhancer   SO:0000165                  1          55356209   \n",
       "2             Enhancer   SO:0000165                  1          18950904   \n",
       "3             Enhancer   SO:0000165                  1          13672329   \n",
       "4             Enhancer   SO:0000165                  1         143444328   \n",
       "..                 ...          ...                ...               ...   \n",
       "628           Enhancer   SO:0000165                  1          96300067   \n",
       "629           Enhancer   SO:0000165                  1         135639644   \n",
       "630           Enhancer   SO:0000165                  1         151734159   \n",
       "631           Enhancer   SO:0000165                  1          83062628   \n",
       "632           Enhancer   SO:0000165                  1          15881553   \n",
       "\n",
       "     display_label  seq_region_end fs_display_label   so_term  \\\n",
       "0             1766       113077010  VISTA Enhancers  enhancer   \n",
       "1             1754        55358345  VISTA Enhancers  enhancer   \n",
       "2             1753        18952943  VISTA Enhancers  enhancer   \n",
       "3             1751        13676370  VISTA Enhancers  enhancer   \n",
       "4             1750       143446382  VISTA Enhancers  enhancer   \n",
       "..             ...             ...              ...       ...   \n",
       "628           2003        96302831  VISTA Enhancers  enhancer   \n",
       "629           2007       135641905  VISTA Enhancers  enhancer   \n",
       "630           2010       151735565  VISTA Enhancers  enhancer   \n",
       "631           2011        83064298  VISTA Enhancers  enhancer   \n",
       "632           2028        15886433  VISTA Enhancers  enhancer   \n",
       "\n",
       "     external_feature_id                     feature_type_description  \\\n",
       "0                 251727  Enhancer identified by positive VISTA assay   \n",
       "1                 251725  Enhancer identified by positive VISTA assay   \n",
       "2                 251724  Enhancer identified by positive VISTA assay   \n",
       "3                 251722  Enhancer identified by positive VISTA assay   \n",
       "4                 251721  Enhancer identified by positive VISTA assay   \n",
       "..                   ...                                          ...   \n",
       "628               251820  Enhancer identified by positive VISTA assay   \n",
       "629               251824  Enhancer identified by positive VISTA assay   \n",
       "630               251827  Enhancer identified by positive VISTA assay   \n",
       "631               251828  Enhancer identified by positive VISTA assay   \n",
       "632               251835  Enhancer identified by positive VISTA assay   \n",
       "\n",
       "    seq_region_name  \n",
       "0                11  \n",
       "1                 9  \n",
       "2                 7  \n",
       "3                 8  \n",
       "4                 6  \n",
       "..              ...  \n",
       "628               7  \n",
       "629               7  \n",
       "630               3  \n",
       "631              12  \n",
       "632              13  \n",
       "\n",
       "[633 rows x 11 columns]"
      ]
     },
     "execution_count": 133,
     "metadata": {},
     "output_type": "execute_result"
    }
   ],
   "source": [
    "import pandas as pd\n",
    "\n",
    "pd.read_csv('~/.ensembl_scraper/106/data/mmusculus_external_feature__external_feature__main.txt', sep='\\t', names=columns)"
   ]
  }
 ],
 "metadata": {
  "interpreter": {
   "hash": "af290b4d5b05cad69ac38957f56664f4844e347962354e86ef3512af18881851"
  },
  "kernelspec": {
   "display_name": "Python [conda env:scraper]",
   "language": "python",
   "name": "python3"
  },
  "language_info": {
   "codemirror_mode": {
    "name": "ipython",
    "version": 3
   },
   "file_extension": ".py",
   "mimetype": "text/x-python",
   "name": "python",
   "nbconvert_exporter": "python",
   "pygments_lexer": "ipython3",
   "version": "3.8.9"
  },
  "orig_nbformat": 4
 },
 "nbformat": 4,
 "nbformat_minor": 2
}
